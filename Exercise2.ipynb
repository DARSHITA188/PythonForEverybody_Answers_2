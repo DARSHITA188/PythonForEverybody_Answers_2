{
 "cells": [
  {
   "cell_type": "code",
   "execution_count": 1,
   "metadata": {},
   "outputs": [
    {
     "name": "stdout",
     "output_type": "stream",
     "text": [
      "Enter your name: Darshita\n",
      "Hello Darshita\n"
     ]
    }
   ],
   "source": [
    "#2.2 Write a program that uses input to prompt a user for their name and then welcomes them.\n",
    "var1 = input('Enter your name: ');\n",
    "print (\"Hello \" + var1);"
   ]
  },
  {
   "cell_type": "code",
   "execution_count": 2,
   "metadata": {},
   "outputs": [
    {
     "name": "stdout",
     "output_type": "stream",
     "text": [
      "Enter Hour:20\n",
      "Eenter Rate per Hour:14\n",
      "Pay: 280.0\n"
     ]
    }
   ],
   "source": [
    "hrs= input(\"Enter Hour:\")\n",
    "rate= input(\"Eenter Rate per Hour:\")\n",
    "pay= float(hrs)*float (rate)\n",
    "print(\"Pay:\", pay)"
   ]
  },
  {
   "cell_type": "code",
   "execution_count": 3,
   "metadata": {},
   "outputs": [
    {
     "name": "stdout",
     "output_type": "stream",
     "text": [
      "Enter Hour:20\n",
      "Eenter Rate per Hour:14.05\n",
      "Pay: 281.0\n"
     ]
    }
   ],
   "source": [
    "hrs= input(\"Enter Hour:\")\n",
    "rate= input(\"Eenter Rate per Hour:\")\n",
    "pay= float(hrs)*float (rate)\n",
    "print(\"Pay:\", pay)"
   ]
  },
  {
   "cell_type": "code",
   "execution_count": null,
   "metadata": {},
   "outputs": [],
   "source": []
  }
 ],
 "metadata": {
  "kernelspec": {
   "display_name": "Python 3",
   "language": "python",
   "name": "python3"
  },
  "language_info": {
   "codemirror_mode": {
    "name": "ipython",
    "version": 3
   },
   "file_extension": ".py",
   "mimetype": "text/x-python",
   "name": "python",
   "nbconvert_exporter": "python",
   "pygments_lexer": "ipython3",
   "version": "3.7.3"
  }
 },
 "nbformat": 4,
 "nbformat_minor": 2
}
